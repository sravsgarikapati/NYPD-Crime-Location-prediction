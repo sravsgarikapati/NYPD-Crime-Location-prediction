{
 "cells": [
  {
   "cell_type": "markdown",
   "id": "b63ae165",
   "metadata": {},
   "source": [
    "<p> Group 1: Lakshmi Pravallika Muttineni, Prabhukanth Potlapalli, Sanjay Nimmagadda, Sravani Chada <br>\n",
    "IST 5520 <br>\n",
    "Project Proposal <br>\n",
    "9/26/2022 </p> \n"
   ]
  },
  {
   "cell_type": "markdown",
   "id": "1af47cd5",
   "metadata": {},
   "source": [
    "<h2> Introduction </h2>"
   ]
  },
  {
   "cell_type": "markdown",
   "id": "3537a864",
   "metadata": {},
   "source": [
    "<p> The Crime Prediction is one of the important topics in recent years that aims to help make the job easier for the police. We have chosen the complaint data, which is published by the New York police department (NYPD), to reflect every felony, misdemeanor, and violation crime that has taken place in New York City so far this year (2022). We decided to dig deeper into the data to see if there are any underlying patterns or relationships that could explain the reasons for the high crime rate in New York City. For this project, we plan to build a model that predicts the possible crime locations and the suspects based on the historic data. This model can be helpful in suggesting areas and schedules for patrolling.</p>"
   ]
  },
  {
   "cell_type": "markdown",
   "id": "b3ec9993",
   "metadata": {},
   "source": [
    "<h2> Literature Review </h2>"
   ]
  },
  {
   "cell_type": "markdown",
   "id": "2b869f9a",
   "metadata": {},
   "source": [
    "<p>There has been previous research done on similar scenarios. In one of the studies, various clustering algorithms, including K-Means clustering and agglomerative clustering, were examined and applied to the Stop, Question, and Frisk Report Database of the NYPD, in order to analyze crime locations and detain people in an effort to lower city crime rates. The K-Means algorithm performed better in clustering, according to the analytical and visual results [1]. In another study, crime is investigated using qualitative and quantitative approaches. It includes looking into theft, homicide, and various drug offenses, as well as strange behaviors, noise complaints, and burglar alarms. Crime rates for each category of crime and cities with high crime rates have been identified using the K-means clustering data mining approach on a crime dataset from the New South Wales region of Australia[2]. One more research study attempted to quantify the degree of crime distortion in order to fill a major gap in the existing CompStat literature. The purpose of its study is to use multinomial logistic regression and semiparametric group-based trajectory modeling to detect and describe any precinct-level patterns of probable crime distortion. [3]</p>"
   ]
  },
  {
   "cell_type": "markdown",
   "id": "ca3d5eb1",
   "metadata": {},
   "source": [
    "<h2> Research Questions </h2>"
   ]
  },
  {
   "cell_type": "markdown",
   "id": "d4040ceb",
   "metadata": {},
   "source": [
    "<p> The high level requirements of this project is to provide necessary outcome for the below questions using the NYPD dataset and necessary python libraries <br> \n",
    "    \n",
    "1. On which age, sex, race most crimes have been committed  and suspected? <br>\n",
    "2. On which days, time and location most crimes have been committed ? <br>\n",
    "3. Predict the possible crime location and suspects based on the historic complaint data. </p>\n"
   ]
  },
  {
   "cell_type": "markdown",
   "id": "883b77fe",
   "metadata": {},
   "source": [
    "<h2> Data </h2>"
   ]
  },
  {
   "cell_type": "markdown",
   "id": "88bebfc5",
   "metadata": {},
   "source": [
    "<p> The dataset was provided by the NYPD. It is a breakdown of every criminal complaint report filed in NYC by the NYPD for the current calendar year. The data is manually extracted every quarter and reviewed by the Office of Management Analysis and Planning. Each record represents a criminal complaint in NYC and includes information about the type of crime, the location, and time of enforcement. The information related to victim and suspect demographics is also included. It has 257k records and 36 columns. </p>"
   ]
  },
  {
   "cell_type": "markdown",
   "id": "aaabfe97",
   "metadata": {},
   "source": [
    "<h5> Data Dictionary </h5>"
   ]
  },
  {
   "cell_type": "markdown",
   "id": "0d7f5ccf",
   "metadata": {},
   "source": [
    "<ol> <li>CMPLNT_NUM: Randomly generated persistent ID for each complaint </li>\n",
    "<li>ADDR_PCT_CD: The precinct in which the incident occurred </li>\n",
    "<li>BORO_NM: The name of the borough in which the incident occurred </li>\n",
    "<li>CMPLNT_FR_DT: Exact date of occurrence for the reported event (or starting date of occurrence, if CMPLNT_TO_DT exists)</li>\n",
    "<li>CMPLNT_FR_TM: Exact time of occurrence for the reported event (or starting time of occurrence, if CMPLNT_TO_TM exists)</li>\n",
    "<li>CMPLNT_TO_DT: Ending date of occurrence for the reported event, if exact time of occurrence is unknown</li>\n",
    "<li>CMPLNT_TO_TM: Ending time of occurrence for the reported event, if exact time of occurrence is unknown</li>\n",
    "<li>CRM_ATPT_CPTD_CD: Indicator of whether crime was successfully completed or attempted, but failed or was interrupted prematurely</li>\n",
    "    <li>HADEVELOPT:\tName of NYCHA housing development of occurrence, if applicable </li>\n",
    "<li>HOUSING_PSA: Development Level Code</li>\n",
    "<li>JURISDICTION_CODE: Jurisdiction responsible for incident. Either internal, like Police(0), Transit(1), and Housing(2); or external(3), like Correction, Port Authority, etc.</li>\n",
    "<li>JURIS_DESC:\tDescription of the jurisdiction code</li>\n",
    "<li>KY_CD: Three digit offense classification code</li>\n",
    "<li>LAW_CAT_CD:\tLevel of offense: felony, misdemeanor, violation </li>\n",
    "<li>LOC_OF_OCCUR_DESC: Specific location of occurrence in or around the premises; inside, opposite of, front of, rear of</li>\n",
    "<li>OFNS_DESC: Description of offense corresponding with key code</li>\n",
    "<li>PARKS_NM: Name of NYC park, playground or greenspace of occurrence, if applicable (state parks are not included)</li>\n",
    "<li>PATROL_BORO: The name of the patrol borough in which the incident occurred</li>\n",
    "<li>PD_CD: Three digit internal classification code (more granular than Key Code)</li>\n",
    "<li>PD_DESC: Description of internal classification corresponding with PD code (more granular than Offense Description)</li>\n",
    "<li>PREM_TYP_DESC: Specific description of premises; grocery store, residence, street, etc.</li>\n",
    "<li>RPT_DT:\tDate event was reported to police </li>\n",
    "<li>STATION_NAME: Transit station name</li>\n",
    "<li>SUSP_AGE_GROUP:\tSuspect’s Age Group</li>\n",
    "<li>SUSP_RACE: Suspect’s Race Description</li>\n",
    "<li>SUSP_SEX: Suspect’s Sex Description</li>\n",
    "<li>TRANSIT_DISTRICT: Transit district in which the offense occurred.</li>\n",
    "<li>VIC_AGE_GROUP: Victim’s Age Group</li>\n",
    "<li>VIC_RACE: Victim’s Race Description</li>\n",
    "<li>VIC_SEX: Victim’s Sex Description</li>\n",
    "<li>X_COORD_CD:\tX-coordinate for New York State Plane Coordinate System, Long Island Zone, NAD 83, units feet (FIPS 3104)</li>\n",
    "<li>Y_COORD_CD:\tY-coordinate for New York State Plane Coordinate System, Long Island Zone, NAD 83, units feet (FIPS 3104)</li>\n",
    "<li>Latitude: Midblock Latitude coordinate for Global Coordinate System, WGS 1984, decimal degrees (EPSG 4326) </li>\n",
    "<li>Longitude:\tMidblock Longitude coordinate for Global Coordinate System, WGS 1984, decimal degrees (EPSG 4326)</li>\n",
    " <li>Lat_Lon : Location</li>\n",
    "    <li>New Georeferenced Column : The New Geology referenced Column </li>\n",
    "</ol>"
   ]
  },
  {
   "cell_type": "markdown",
   "id": "4be3d053",
   "metadata": {},
   "source": [
    "<p>We wish to analyze the characteristics of repeat offenders and crime hotspots in order to narrow down the suspects based on historical data. The selected dataset contains all the data needed to conduct analysis and address research questions.</p>"
   ]
  },
  {
   "cell_type": "markdown",
   "id": "7972d73b",
   "metadata": {},
   "source": [
    "#### References"
   ]
  },
  {
   "cell_type": "markdown",
   "id": "87802b17",
   "metadata": {},
   "source": [
    "<p> [1] Alkhaibari, Adel Ali, and Ping-Tsai Chung. \"Cluster analysis for reducing city crime rates.\" 2017 IEEE Long Island Systems, Applications and Technology Conference (LISAT). IEEE, 2017. <br>\n",
    " [2]Joshi, Anant, A. Sai Sabitha, and Tanupriya Choudhury. \"Crime analysis using K-means clustering.\" 2017 3rd International conference on computational intelligence and networks (CINE). IEEE, 2017.<br>\n",
    "    [3] Thomas, Amanda L., and Kevin T. Wolff. \"Crime distortion within the NYPD: A potential method for estimating crime misclassification within CompStat statistics.\" Police Practice and Research 22.4 (2021): 1390-1407.<br></p>"
   ]
  }
 ],
 "metadata": {
  "kernelspec": {
   "display_name": "Python 3 (ipykernel)",
   "language": "python",
   "name": "python3"
  },
  "language_info": {
   "codemirror_mode": {
    "name": "ipython",
    "version": 3
   },
   "file_extension": ".py",
   "mimetype": "text/x-python",
   "name": "python",
   "nbconvert_exporter": "python",
   "pygments_lexer": "ipython3",
   "version": "3.9.12"
  }
 },
 "nbformat": 4,
 "nbformat_minor": 5
}
